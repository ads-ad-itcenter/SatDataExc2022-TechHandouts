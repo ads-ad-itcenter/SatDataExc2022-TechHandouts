{
 "cells": [
  {
   "cell_type": "markdown",
   "metadata": {
    "id": "uPSfPaJKloGH"
   },
   "source": [
    "# PythonプログラムからVertex AI エンドポイントを利用する"
   ]
  },
  {
   "cell_type": "markdown",
   "metadata": {
    "jp-MarkdownHeadingCollapsed": true,
    "tags": []
   },
   "source": [
    "## (非常時用)"
   ]
  },
  {
   "cell_type": "code",
   "execution_count": null,
   "metadata": {
    "tags": []
   },
   "outputs": [],
   "source": [
    "import sys\n",
    "\n",
    "module_list = sys.modules\n",
    "ENV_COLAB = ('google.colab' in module_list)\n",
    "\n",
    "if ENV_COLAB:\n",
    "    print(\"google_colab\")\n",
    "    \n",
    "    !pip install -q google-cloud-aiplatform\n",
    "    from google.colab import auth\n",
    "    auth.authenticate_user()\n",
    "    \n",
    "    from google.colab import drive\n",
    "    drive.mount('/content/drive')\n",
    "\n",
    "    import os\n",
    "    if not os.getenv(\"IS_TESTING\"):\n",
    "        # Restart the kernel after pip installs\n",
    "        import IPython\n",
    "        app = IPython.Application.instance()\n",
    "        app.kernel.do_shutdown(True)\n",
    "\n",
    "else:\n",
    "    print(\"Not google_colab\")"
   ]
  },
  {
   "cell_type": "markdown",
   "metadata": {
    "id": "h1RxSspElHQU"
   },
   "source": [
    "## 必要なライブラリのインストール、インポート"
   ]
  },
  {
   "cell_type": "code",
   "execution_count": null,
   "metadata": {},
   "outputs": [],
   "source": [
    "!pip install -q opencv-python==4.1.2.30"
   ]
  },
  {
   "cell_type": "code",
   "execution_count": null,
   "metadata": {},
   "outputs": [],
   "source": [
    "import base64\n",
    "\n",
    "import cv2\n",
    "import matplotlib.pyplot as plt\n",
    "from google.cloud import aiplatform\n",
    "from google.cloud.aiplatform.gapic.schema import predict"
   ]
  },
  {
   "cell_type": "markdown",
   "metadata": {
    "jp-MarkdownHeadingCollapsed": true,
    "tags": []
   },
   "source": [
    "## 関数を定義"
   ]
  },
  {
   "cell_type": "code",
   "execution_count": null,
   "metadata": {
    "id": "WqRyTRxjU5yC"
   },
   "outputs": [],
   "source": [
    "# 参考: https://github.com/googleapis/python-aiplatform/blob/main/samples/snippets/prediction_service/predict_image_object_detection_sample.py\n",
    "\n",
    "# Copyright 2020 Google LLC\n",
    "#\n",
    "# Licensed under the Apache License, Version 2.0 (the \"License\");\n",
    "# you may not use this file except in compliance with the License.\n",
    "# You may obtain a copy of the License at\n",
    "#\n",
    "#     https://www.apache.org/licenses/LICENSE-2.0\n",
    "#\n",
    "# Unless required by applicable law or agreed to in writing, software\n",
    "# distributed under the License is distributed on an \"AS IS\" BASIS,\n",
    "# WITHOUT WARRANTIES OR CONDITIONS OF ANY KIND, either express or implied.\n",
    "# See the License for the specific language governing permissions and\n",
    "# limitations under the License.\n",
    "\n",
    "# [START aiplatform_predict_image_object_detection_sample]\n",
    "def predict_image_object_detection(\n",
    "    project: str,\n",
    "    endpoint_id: str,\n",
    "    filename: str,\n",
    "    location: str = \"us-central1\",\n",
    "    api_endpoint: str = \"us-central1-aiplatform.googleapis.com\",\n",
    "    confidence_threshold: float = 0.5,\n",
    "    max_predictions: int = 10,\n",
    "):\n",
    "    # The AI Platform services require regional API endpoints.\n",
    "    client_options = {\"api_endpoint\": api_endpoint}\n",
    "    # Initialize client that will be used to create and send requests.\n",
    "    # This client only needs to be created once, and can be reused for multiple requests.\n",
    "    client = aiplatform.gapic.PredictionServiceClient(client_options=client_options)\n",
    "    with open(filename, \"rb\") as f:\n",
    "        file_content = f.read()\n",
    "\n",
    "    # The format of each instance should conform to the deployed model's prediction input schema.\n",
    "    encoded_content = base64.b64encode(file_content).decode(\"utf-8\")\n",
    "    instance = predict.instance.ImageObjectDetectionPredictionInstance(\n",
    "        content=encoded_content,\n",
    "    ).to_value()\n",
    "    instances = [instance]\n",
    "    # See gs://google-cloud-aiplatform/schema/predict/params/image_object_detection_1.0.0.yaml for the format of the parameters.\n",
    "    parameters = predict.params.ImageObjectDetectionPredictionParams(\n",
    "        #confidence_threshold=0.5, max_predictions=10,\n",
    "        confidence_threshold=confidence_threshold, max_predictions=max_predictions,\n",
    "    ).to_value()\n",
    "    endpoint = client.endpoint_path(\n",
    "        project=project, location=location, endpoint=endpoint_id\n",
    "    )\n",
    "    response = client.predict(\n",
    "        endpoint=endpoint, instances=instances, parameters=parameters\n",
    "    )\n",
    "    # print(\"response: \" + filename)\n",
    "    # print(\" deployed_model_id:\", response.deployed_model_id)\n",
    "    # See gs://google-cloud-aiplatform/schema/predict/prediction/image_object_detection_1.0.0.yaml for the format of the predictions.\n",
    "    predictions = response.predictions\n",
    "    for prediction in predictions:\n",
    "        # print(\" prediction:\", dict(prediction))\n",
    "        pred_result = dict(prediction)\n",
    "    return pred_result\n",
    "\n",
    "# [END aiplatform_predict_image_object_detection_sample]"
   ]
  },
  {
   "cell_type": "code",
   "execution_count": null,
   "metadata": {},
   "outputs": [],
   "source": [
    "def show_image_with_bbox(filename, displayNames, confidences, bboxes, confidence_threshold=0):\n",
    "    text_color = (0, 0, 0)\n",
    "    box_color = (0, 255, 0)\n",
    "    font = cv2.FONT_HERSHEY_SIMPLEX\n",
    "    text_size = 0.5\n",
    "        \n",
    "    ship_count = 0\n",
    "    \n",
    "    img = cv2.imread(filename)\n",
    "    height = img.shape[0]\n",
    "    width  = img.shape[1]\n",
    "    \n",
    "    for index in range(len(confidences)):\n",
    "        confidence = confidences[index]\n",
    "        \n",
    "        # 信頼度が閾値未満の場合はスキップ\n",
    "        if confidence < confidence_threshold:\n",
    "            continue\n",
    "\n",
    "        ship_count += 1\n",
    "\n",
    "        bbox = bboxes[index]\n",
    "        x1 = int(bbox[0] * width)\n",
    "        x2 = int(bbox[1] * width)\n",
    "        y1 = int(bbox[2] * height)\n",
    "        y2 = int(bbox[3] * height)\n",
    "\n",
    "        cv2.rectangle(img, (x1, y1), (x2, y2), box_color, 2)# ボックス\n",
    "\n",
    "        conf_str = '{:.3f}'.format(confidence)\n",
    "        txt = f'{displayNames[index]} {conf_str}'\n",
    "        txt_size_x, txt_size_y = cv2.getTextSize(txt, font, text_size, 0)[0]\n",
    "\n",
    "        # bboxラベル位置 y\n",
    "        txt_padding_y = 4\n",
    "        txt_rectangle_pts_y = [y1 - txt_size_y - txt_padding_y*2, y1]\n",
    "        txt_puttext_pt_y = y1 - txt_padding_y\n",
    "        # ラベルが画像上部にかかる場合、bbox下部にラベルを表示\n",
    "        if (txt_rectangle_pts_y[0] < 0):\n",
    "            txt_rectangle_pts_y = [y2 + txt_size_y + txt_padding_y*2, y2]\n",
    "            txt_puttext_pt_y = y2 + txt_size_y + txt_padding_y\n",
    "\n",
    "        # bboxラベル位置 x\n",
    "        txt_padding_x = 2\n",
    "        txt_rectangle_pts_x = [x1, x1 + txt_size_x + txt_padding_x*2]\n",
    "        txt_puttext_pt_x = x1 + txt_padding_x\n",
    "        # ラベルが画像右部にかかる場合、bbox右寄せにラベルを表示\n",
    "        if (txt_rectangle_pts_x[1] > width):\n",
    "            txt_rectangle_pts_x = [x2 - txt_size_x - txt_padding_x*2, x2]\n",
    "            txt_puttext_pt_x = x2 - txt_size_x + txt_padding_x\n",
    "\n",
    "        cv2.rectangle(img, (txt_rectangle_pts_x[0], txt_rectangle_pts_y[0]), (txt_rectangle_pts_x[1], txt_rectangle_pts_y[1]), box_color, -1)# テキストの下地\n",
    "        cv2.putText(img, txt, (txt_puttext_pt_x, txt_puttext_pt_y), font, text_size, text_color, thickness=1, lineType=cv2.LINE_AA)# テキスト\n",
    "        \n",
    "    fig, ax = plt.subplots() \n",
    "    ax.axis(\"off\")\n",
    "    ax.imshow(cv2.cvtColor(img, cv2.COLOR_BGR2RGB))\n",
    "    fig.subplots_adjust(left=0, right=1, bottom=0, top=1)\n",
    "    plt.title(f'{filename} => ship: {ship_count}')\n",
    "    plt.show()"
   ]
  },
  {
   "cell_type": "markdown",
   "metadata": {
    "id": "jRdAWvn21mnV"
   },
   "source": [
    "## 推論の実行（Vertex AI エンドポイントへリクエスト）"
   ]
  },
  {
   "cell_type": "markdown",
   "metadata": {},
   "source": [
    "### リクエストを送信"
   ]
  },
  {
   "cell_type": "code",
   "execution_count": null,
   "metadata": {},
   "outputs": [],
   "source": [
    "project=\"プロジェクト名 or ID\"\n",
    "endpoint_id=\"エンドポイントID\"\n",
    "location=\"リージョン\"\n",
    "filename=\"推論したい画像ファイルパス（ローカル）\"\n",
    "confidence_threshold=0.5\n",
    "max_predictions=50\n",
    "\n",
    "result = predict_image_object_detection(\n",
    "    project=project,\n",
    "    endpoint_id=endpoint_id,\n",
    "    location=location,\n",
    "    filename=filename,\n",
    "    confidence_threshold=confidence_threshold,\n",
    "    max_predictions=max_predictions,\n",
    ")\n",
    "result"
   ]
  },
  {
   "cell_type": "markdown",
   "metadata": {},
   "source": [
    "### 結果を画像上に表示"
   ]
  },
  {
   "cell_type": "code",
   "execution_count": null,
   "metadata": {},
   "outputs": [],
   "source": [
    "show_image_with_bbox(\n",
    "    filename=filename,\n",
    "    displayNames=result['displayNames'],\n",
    "    confidences=result['confidences'],\n",
    "    bboxes=result['bboxes'],\n",
    ")"
   ]
  },
  {
   "cell_type": "code",
   "execution_count": null,
   "metadata": {},
   "outputs": [],
   "source": []
  }
 ],
 "metadata": {
  "colab": {
   "authorship_tag": "ABX9TyOzgIQNDaErGpaFgsdBa6qj",
   "collapsed_sections": [
    "Rx50cwQh1eqZ",
    "jRdAWvn21mnV"
   ],
   "mount_file_id": "1zJsbaQp_VnrGaeAWHH8idHsJxOM0Zji7",
   "provenance": []
  },
  "kernelspec": {
   "display_name": "Python (Local)",
   "language": "python",
   "name": "local-base"
  },
  "language_info": {
   "codemirror_mode": {
    "name": "ipython",
    "version": 3
   },
   "file_extension": ".py",
   "mimetype": "text/x-python",
   "name": "python",
   "nbconvert_exporter": "python",
   "pygments_lexer": "ipython3",
   "version": "3.7.12"
  },
  "toc-autonumbering": true,
  "toc-showcode": false,
  "toc-showmarkdowntxt": true,
  "toc-showtags": false
 },
 "nbformat": 4,
 "nbformat_minor": 4
}
